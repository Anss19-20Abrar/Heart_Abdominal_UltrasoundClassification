{
 "cells": [
  {
   "cell_type": "markdown",
   "metadata": {
    "jp-MarkdownHeadingCollapsed": true
   },
   "source": [
    "# Data Import\n",
    "We'll load the dataset and split it into training and test data with 80/20 split"
   ]
  },
  {
   "cell_type": "code",
   "execution_count": 7,
   "metadata": {
    "id": "zqmi60be60ds"
   },
   "outputs": [],
   "source": [
    "import os\n",
    "import cv2\n",
    "import numpy as np\n",
    "from sklearn.model_selection import train_test_split\n",
    "from sklearn.preprocessing import LabelEncoder\n",
    "from sklearn.svm import SVC\n",
    "from sklearn.metrics import classification_report\n",
    "from tensorflow.keras.preprocessing.image import ImageDataGenerator\n",
    "\n",
    "# Define paths to heart and non-heart folders\n",
    "heart_path = \"heart\"  # Update with the path to your heart images folder\n",
    "non_heart_path = \"non-heart\"  # Update with the path to your non-heart images folder\n",
    "\n",
    "# Load heart ultrasound images\n",
    "heart_images = []\n",
    "heart_labels = []\n",
    "\n",
    "# Load images from \"open\" folder\n",
    "for img_file in os.listdir(os.path.join(heart_path, \"open\")):\n",
    "    img = cv2.imread(os.path.join(heart_path, \"open\", img_file))\n",
    "    img = cv2.cvtColor(img, cv2.COLOR_BGR2GRAY)  # Convert to grayscale\n",
    "    img = cv2.resize(img, (128, 128))  # Resize to 128x128\n",
    "    heart_images.append(img)\n",
    "    heart_labels.append(1)  # Label 1 for \"open\" images\n",
    "\n",
    "# Load images from \"closed\" folder\n",
    "for img_file in os.listdir(os.path.join(heart_path, \"closed\")):\n",
    "    img = cv2.imread(os.path.join(heart_path, \"closed\", img_file))\n",
    "    img = cv2.cvtColor(img, cv2.COLOR_BGR2GRAY)  # Convert to grayscale\n",
    "    img = cv2.resize(img, (128, 128))  # Resize to 128x128\n",
    "    heart_images.append(img)\n",
    "    heart_labels.append(1)  # Label 1 for \"closed\" images\n",
    "\n",
    "# Load non-heart ultrasound images\n",
    "non_heart_images = []\n",
    "non_heart_labels = []\n",
    "\n",
    "for img_file in os.listdir(non_heart_path):\n",
    "    img = cv2.imread(os.path.join(non_heart_path, img_file))\n",
    "    img = cv2.cvtColor(img, cv2.COLOR_BGR2GRAY)  # Convert to grayscale\n",
    "    img = cv2.resize(img, (128, 128))  # Resize to 128x128\n",
    "    non_heart_images.append(img)\n",
    "    non_heart_labels.append(0)  # Label 0 for non-heart images\n",
    "\n",
    "# Combine heart and non-heart images and labels\n",
    "X = np.concatenate((heart_images, non_heart_images), axis=0)\n",
    "y = np.concatenate((heart_labels, non_heart_labels), axis=0)\n",
    "\n",
    "# Split data into train and test sets\n",
    "X_train, X_test, y_train, y_test = train_test_split(X, y, test_size=0.2, stratify=y, random_state=42)\n",
    "\n",
    "# Flatten images for SVM\n",
    "X_train_flatten = X_train.reshape(X_train.shape[0], -1)\n",
    "X_test_flatten = X_test.reshape(X_test.shape[0], -1)"
   ]
  },
  {
   "cell_type": "markdown",
   "metadata": {
    "jp-MarkdownHeadingCollapsed": true
   },
   "source": [
    "# Experiment 1"
   ]
  },
  {
   "cell_type": "markdown",
   "metadata": {
    "id": "cUnq2UPv9tkG"
   },
   "source": [
    "## Model Training and Evaluation\n",
    "We'll train a Support Vector Machine (SVM) and a Convolutional Neural Network (CNN) for classification."
   ]
  },
  {
   "cell_type": "markdown",
   "metadata": {
    "jp-MarkdownHeadingCollapsed": true
   },
   "source": [
    "## SVM"
   ]
  },
  {
   "cell_type": "code",
   "execution_count": 8,
   "metadata": {
    "colab": {
     "base_uri": "https://localhost:8080/"
    },
    "id": "SMhfdXUq70Ru",
    "outputId": "56762a4b-bebc-492b-fc45-f07ee722b8ef"
   },
   "outputs": [
    {
     "name": "stdout",
     "output_type": "stream",
     "text": [
      "SVM Classification Report:\n",
      "              precision    recall  f1-score   support\n",
      "\n",
      "           0       1.00      1.00      1.00       185\n",
      "           1       1.00      1.00      1.00        44\n",
      "\n",
      "    accuracy                           1.00       229\n",
      "   macro avg       1.00      1.00      1.00       229\n",
      "weighted avg       1.00      1.00      1.00       229\n",
      "\n"
     ]
    }
   ],
   "source": [
    "# Train SVM\n",
    "svm = SVC(kernel='linear', random_state=42)\n",
    "svm.fit(X_train_flatten, y_train)\n",
    "\n",
    "# Evaluate SVM\n",
    "svm_predictions = svm.predict(X_test_flatten)\n",
    "svm_report = classification_report(y_test, svm_predictions)\n",
    "\n",
    "# Print classification reports\n",
    "print(\"SVM Classification Report:\")\n",
    "print(svm_report)"
   ]
  },
  {
   "cell_type": "markdown",
   "metadata": {
    "jp-MarkdownHeadingCollapsed": true
   },
   "source": [
    "## CNN"
   ]
  },
  {
   "cell_type": "code",
   "execution_count": 9,
   "metadata": {},
   "outputs": [
    {
     "name": "stderr",
     "output_type": "stream",
     "text": [
      "C:\\Users\\Hassan\\AppData\\Local\\Programs\\Python\\Python311\\Lib\\site-packages\\keras\\src\\layers\\convolutional\\base_conv.py:99: UserWarning: Do not pass an `input_shape`/`input_dim` argument to a layer. When using Sequential models, prefer using an `Input(shape)` object as the first layer in the model instead.\n",
      "  super().__init__(\n"
     ]
    }
   ],
   "source": [
    "# Train CNN\n",
    "from keras.models import Sequential\n",
    "from keras.layers import Conv2D, MaxPooling2D, Flatten, Dense\n",
    "\n",
    "# Define the CNN model\n",
    "cnn_model = Sequential([\n",
    "    Conv2D(32, (3, 3), activation='relu', input_shape=(128, 128, 1)),\n",
    "    MaxPooling2D((2, 2)),\n",
    "    Conv2D(64, (3, 3), activation='relu'),\n",
    "    MaxPooling2D((2, 2)),\n",
    "    Conv2D(64, (3, 3), activation='relu'),\n",
    "    Flatten(),\n",
    "    Dense(64, activation='relu'),\n",
    "    Dense(1, activation='sigmoid')\n",
    "])\n",
    "\n",
    "# Compile the model\n",
    "cnn_model.compile(optimizer='adam',\n",
    "                  loss='binary_crossentropy',\n",
    "                  metrics=['accuracy'])"
   ]
  },
  {
   "cell_type": "code",
   "execution_count": 11,
   "metadata": {
    "colab": {
     "base_uri": "https://localhost:8080/"
    },
    "id": "Sj2fUQIF-NOA",
    "outputId": "cca1035d-7247-41c0-db38-e83e0e23688f"
   },
   "outputs": [
    {
     "name": "stdout",
     "output_type": "stream",
     "text": [
      "Epoch 1/5\n",
      "\u001b[1m29/29\u001b[0m \u001b[32m━━━━━━━━━━━━━━━━━━━━\u001b[0m\u001b[37m\u001b[0m \u001b[1m10s\u001b[0m 333ms/step - accuracy: 1.0000 - loss: 0.0000e+00 - val_accuracy: 1.0000 - val_loss: 0.0000e+00\n",
      "Epoch 2/5\n",
      "\u001b[1m29/29\u001b[0m \u001b[32m━━━━━━━━━━━━━━━━━━━━\u001b[0m\u001b[37m\u001b[0m \u001b[1m10s\u001b[0m 348ms/step - accuracy: 1.0000 - loss: 0.0000e+00 - val_accuracy: 1.0000 - val_loss: 0.0000e+00\n",
      "Epoch 3/5\n",
      "\u001b[1m29/29\u001b[0m \u001b[32m━━━━━━━━━━━━━━━━━━━━\u001b[0m\u001b[37m\u001b[0m \u001b[1m11s\u001b[0m 373ms/step - accuracy: 1.0000 - loss: 0.0000e+00 - val_accuracy: 1.0000 - val_loss: 0.0000e+00\n",
      "Epoch 4/5\n",
      "\u001b[1m29/29\u001b[0m \u001b[32m━━━━━━━━━━━━━━━━━━━━\u001b[0m\u001b[37m\u001b[0m \u001b[1m10s\u001b[0m 345ms/step - accuracy: 1.0000 - loss: 0.0000e+00 - val_accuracy: 1.0000 - val_loss: 0.0000e+00\n",
      "Epoch 5/5\n",
      "\u001b[1m29/29\u001b[0m \u001b[32m━━━━━━━━━━━━━━━━━━━━\u001b[0m\u001b[37m\u001b[0m \u001b[1m10s\u001b[0m 339ms/step - accuracy: 1.0000 - loss: 0.0000e+00 - val_accuracy: 1.0000 - val_loss: 0.0000e+00\n",
      "\u001b[1m8/8\u001b[0m \u001b[32m━━━━━━━━━━━━━━━━━━━━\u001b[0m\u001b[37m\u001b[0m \u001b[1m1s\u001b[0m 111ms/step\n",
      "CNN Classification Report:\n",
      "              precision    recall  f1-score   support\n",
      "\n",
      "           0       1.00      1.00      1.00       185\n",
      "           1       1.00      1.00      1.00        44\n",
      "\n",
      "    accuracy                           1.00       229\n",
      "   macro avg       1.00      1.00      1.00       229\n",
      "weighted avg       1.00      1.00      1.00       229\n",
      "\n"
     ]
    }
   ],
   "source": [
    "# Train the CNN model\n",
    "cnn_model.fit(X_train[..., np.newaxis], y_train, epochs=5, batch_size=32, validation_data=(X_test[..., np.newaxis], y_test))\n",
    "\n",
    "# Evaluate CNN\n",
    "cnn_predictions = cnn_model.predict(X_test[..., np.newaxis])  # Perform predictions using your trained CNN model\n",
    "cnn_predictions = np.round(cnn_predictions).flatten()  # Round predictions to convert probabilities to binary labels\n",
    "cnn_report = classification_report(y_test, cnn_predictions)\n",
    "\n",
    "\n",
    "# Uncomment below once you have the CNN classification report\n",
    "print(\"CNN Classification Report:\")\n",
    "print(cnn_report)"
   ]
  },
  {
   "cell_type": "markdown",
   "metadata": {},
   "source": [
    "## Report\n",
    "As both the models are performing perfectly so we will use 5-fold Cross-Validation to check if they are actually performing perfectly and it's not just dumb luck"
   ]
  },
  {
   "cell_type": "markdown",
   "metadata": {
    "id": "-2RI2F6mCMx3",
    "jp-MarkdownHeadingCollapsed": true
   },
   "source": [
    "## Five-Fold Cross-Validation\n",
    "\n",
    "We perform 5-fold cross validation to check if the model is actually performing perfectly"
   ]
  },
  {
   "cell_type": "markdown",
   "metadata": {
    "jp-MarkdownHeadingCollapsed": true
   },
   "source": [
    "## SVM"
   ]
  },
  {
   "cell_type": "code",
   "execution_count": 14,
   "metadata": {
    "colab": {
     "base_uri": "https://localhost:8080/"
    },
    "id": "4rRNzB7GCN3m",
    "outputId": "0aba0a6b-4707-46b7-c230-8db2757415b1"
   },
   "outputs": [
    {
     "name": "stdout",
     "output_type": "stream",
     "text": [
      "Accuracy for this fold is:  1.0\n",
      "Accuracy for this fold is:  1.0\n",
      "Accuracy for this fold is:  1.0\n",
      "Accuracy for this fold is:  1.0\n",
      "Accuracy for this fold is:  1.0\n",
      "Accuracy for this fold is:  1.0\n",
      "Accuracy for this fold is:  1.0\n",
      "Accuracy for this fold is:  1.0\n",
      "Accuracy for this fold is:  1.0\n",
      "Accuracy for this fold is:  1.0\n",
      " Mean accuracy over all folds is:  1.0\n"
     ]
    }
   ],
   "source": [
    "from sklearn.model_selection import cross_val_score\n",
    "\n",
    "# create model\n",
    "model = SVC(kernel='linear', C=1, random_state=42)\n",
    "\n",
    "# evaluate model\n",
    "scores = cross_val_score(model, X_train_flatten, y_train, scoring='accuracy', cv=10)\n",
    "\n",
    "for score in scores:\n",
    "    print(\"Accuracy for this fold is: \", score)\n",
    "\n",
    "# Mean accuracy\n",
    "print(' Mean accuracy over all folds is: ', (np.mean(scores)))"
   ]
  },
  {
   "cell_type": "markdown",
   "metadata": {
    "jp-MarkdownHeadingCollapsed": true
   },
   "source": [
    "## CNN"
   ]
  },
  {
   "cell_type": "code",
   "execution_count": 28,
   "metadata": {},
   "outputs": [
    {
     "name": "stdout",
     "output_type": "stream",
     "text": [
      "Epoch 1/5\n"
     ]
    },
    {
     "name": "stderr",
     "output_type": "stream",
     "text": [
      "C:\\Users\\Hassan\\AppData\\Local\\Programs\\Python\\Python311\\Lib\\site-packages\\keras\\src\\layers\\convolutional\\base_conv.py:99: UserWarning: Do not pass an `input_shape`/`input_dim` argument to a layer. When using Sequential models, prefer using an `Input(shape)` object as the first layer in the model instead.\n",
      "  super().__init__(\n"
     ]
    },
    {
     "name": "stdout",
     "output_type": "stream",
     "text": [
      "\u001b[1m23/23\u001b[0m \u001b[32m━━━━━━━━━━━━━━━━━━━━\u001b[0m\u001b[37m\u001b[0m \u001b[1m5s\u001b[0m 198ms/step - accuracy: 0.9436 - loss: 0.4035 - val_accuracy: 1.0000 - val_loss: 0.0000e+00\n",
      "Epoch 2/5\n",
      "\u001b[1m23/23\u001b[0m \u001b[32m━━━━━━━━━━━━━━━━━━━━\u001b[0m\u001b[37m\u001b[0m \u001b[1m4s\u001b[0m 188ms/step - accuracy: 1.0000 - loss: 0.0000e+00 - val_accuracy: 1.0000 - val_loss: 0.0000e+00\n",
      "Epoch 3/5\n",
      "\u001b[1m23/23\u001b[0m \u001b[32m━━━━━━━━━━━━━━━━━━━━\u001b[0m\u001b[37m\u001b[0m \u001b[1m4s\u001b[0m 190ms/step - accuracy: 1.0000 - loss: 0.0000e+00 - val_accuracy: 1.0000 - val_loss: 0.0000e+00\n",
      "Epoch 4/5\n",
      "\u001b[1m23/23\u001b[0m \u001b[32m━━━━━━━━━━━━━━━━━━━━\u001b[0m\u001b[37m\u001b[0m \u001b[1m4s\u001b[0m 188ms/step - accuracy: 1.0000 - loss: 0.0000e+00 - val_accuracy: 1.0000 - val_loss: 0.0000e+00\n",
      "Epoch 5/5\n",
      "\u001b[1m23/23\u001b[0m \u001b[32m━━━━━━━━━━━━━━━━━━━━\u001b[0m\u001b[37m\u001b[0m \u001b[1m4s\u001b[0m 194ms/step - accuracy: 1.0000 - loss: 0.0000e+00 - val_accuracy: 1.0000 - val_loss: 0.0000e+00\n",
      "\u001b[1m6/6\u001b[0m \u001b[32m━━━━━━━━━━━━━━━━━━━━\u001b[0m\u001b[37m\u001b[0m \u001b[1m0s\u001b[0m 55ms/step\n",
      "Epoch 1/5\n"
     ]
    },
    {
     "name": "stderr",
     "output_type": "stream",
     "text": [
      "C:\\Users\\Hassan\\AppData\\Local\\Programs\\Python\\Python311\\Lib\\site-packages\\keras\\src\\layers\\convolutional\\base_conv.py:99: UserWarning: Do not pass an `input_shape`/`input_dim` argument to a layer. When using Sequential models, prefer using an `Input(shape)` object as the first layer in the model instead.\n",
      "  super().__init__(\n"
     ]
    },
    {
     "name": "stdout",
     "output_type": "stream",
     "text": [
      "\u001b[1m23/23\u001b[0m \u001b[32m━━━━━━━━━━━━━━━━━━━━\u001b[0m\u001b[37m\u001b[0m \u001b[1m5s\u001b[0m 191ms/step - accuracy: 0.9911 - loss: 0.2650 - val_accuracy: 1.0000 - val_loss: 0.0000e+00\n",
      "Epoch 2/5\n",
      "\u001b[1m23/23\u001b[0m \u001b[32m━━━━━━━━━━━━━━━━━━━━\u001b[0m\u001b[37m\u001b[0m \u001b[1m4s\u001b[0m 189ms/step - accuracy: 1.0000 - loss: 0.0000e+00 - val_accuracy: 1.0000 - val_loss: 0.0000e+00\n",
      "Epoch 3/5\n",
      "\u001b[1m23/23\u001b[0m \u001b[32m━━━━━━━━━━━━━━━━━━━━\u001b[0m\u001b[37m\u001b[0m \u001b[1m4s\u001b[0m 190ms/step - accuracy: 1.0000 - loss: 0.0000e+00 - val_accuracy: 1.0000 - val_loss: 0.0000e+00\n",
      "Epoch 4/5\n",
      "\u001b[1m23/23\u001b[0m \u001b[32m━━━━━━━━━━━━━━━━━━━━\u001b[0m\u001b[37m\u001b[0m \u001b[1m5s\u001b[0m 195ms/step - accuracy: 1.0000 - loss: 0.0000e+00 - val_accuracy: 1.0000 - val_loss: 0.0000e+00\n",
      "Epoch 5/5\n",
      "\u001b[1m23/23\u001b[0m \u001b[32m━━━━━━━━━━━━━━━━━━━━\u001b[0m\u001b[37m\u001b[0m \u001b[1m4s\u001b[0m 194ms/step - accuracy: 1.0000 - loss: 0.0000e+00 - val_accuracy: 1.0000 - val_loss: 0.0000e+00\n",
      "\u001b[1m6/6\u001b[0m \u001b[32m━━━━━━━━━━━━━━━━━━━━\u001b[0m\u001b[37m\u001b[0m \u001b[1m0s\u001b[0m 53ms/step\n",
      "Epoch 1/5\n"
     ]
    },
    {
     "name": "stderr",
     "output_type": "stream",
     "text": [
      "C:\\Users\\Hassan\\AppData\\Local\\Programs\\Python\\Python311\\Lib\\site-packages\\keras\\src\\layers\\convolutional\\base_conv.py:99: UserWarning: Do not pass an `input_shape`/`input_dim` argument to a layer. When using Sequential models, prefer using an `Input(shape)` object as the first layer in the model instead.\n",
      "  super().__init__(\n"
     ]
    },
    {
     "name": "stdout",
     "output_type": "stream",
     "text": [
      "\u001b[1m23/23\u001b[0m \u001b[32m━━━━━━━━━━━━━━━━━━━━\u001b[0m\u001b[37m\u001b[0m \u001b[1m5s\u001b[0m 197ms/step - accuracy: 0.7863 - loss: 10.3473 - val_accuracy: 1.0000 - val_loss: 0.0000e+00\n",
      "Epoch 2/5\n",
      "\u001b[1m23/23\u001b[0m \u001b[32m━━━━━━━━━━━━━━━━━━━━\u001b[0m\u001b[37m\u001b[0m \u001b[1m4s\u001b[0m 194ms/step - accuracy: 1.0000 - loss: 2.0376e-27 - val_accuracy: 1.0000 - val_loss: 2.8737e-20\n",
      "Epoch 3/5\n",
      "\u001b[1m23/23\u001b[0m \u001b[32m━━━━━━━━━━━━━━━━━━━━\u001b[0m\u001b[37m\u001b[0m \u001b[1m4s\u001b[0m 193ms/step - accuracy: 1.0000 - loss: 9.0976e-18 - val_accuracy: 1.0000 - val_loss: 9.6639e-15\n",
      "Epoch 4/5\n",
      "\u001b[1m23/23\u001b[0m \u001b[32m━━━━━━━━━━━━━━━━━━━━\u001b[0m\u001b[37m\u001b[0m \u001b[1m4s\u001b[0m 193ms/step - accuracy: 1.0000 - loss: 1.3000e-15 - val_accuracy: 1.0000 - val_loss: 3.8223e-14\n",
      "Epoch 5/5\n",
      "\u001b[1m23/23\u001b[0m \u001b[32m━━━━━━━━━━━━━━━━━━━━\u001b[0m\u001b[37m\u001b[0m \u001b[1m4s\u001b[0m 192ms/step - accuracy: 1.0000 - loss: 2.1826e-15 - val_accuracy: 1.0000 - val_loss: 4.3963e-14\n",
      "\u001b[1m6/6\u001b[0m \u001b[32m━━━━━━━━━━━━━━━━━━━━\u001b[0m\u001b[37m\u001b[0m \u001b[1m0s\u001b[0m 63ms/step\n",
      "Epoch 1/5\n"
     ]
    },
    {
     "name": "stderr",
     "output_type": "stream",
     "text": [
      "C:\\Users\\Hassan\\AppData\\Local\\Programs\\Python\\Python311\\Lib\\site-packages\\keras\\src\\layers\\convolutional\\base_conv.py:99: UserWarning: Do not pass an `input_shape`/`input_dim` argument to a layer. When using Sequential models, prefer using an `Input(shape)` object as the first layer in the model instead.\n",
      "  super().__init__(\n"
     ]
    },
    {
     "name": "stdout",
     "output_type": "stream",
     "text": [
      "\u001b[1m23/23\u001b[0m \u001b[32m━━━━━━━━━━━━━━━━━━━━\u001b[0m\u001b[37m\u001b[0m \u001b[1m5s\u001b[0m 195ms/step - accuracy: 0.7741 - loss: 29.8009 - val_accuracy: 1.0000 - val_loss: 8.5107e-16\n",
      "Epoch 2/5\n",
      "\u001b[1m23/23\u001b[0m \u001b[32m━━━━━━━━━━━━━━━━━━━━\u001b[0m\u001b[37m\u001b[0m \u001b[1m4s\u001b[0m 192ms/step - accuracy: 1.0000 - loss: 9.1682e-13 - val_accuracy: 1.0000 - val_loss: 1.0556e-14\n",
      "Epoch 3/5\n",
      "\u001b[1m23/23\u001b[0m \u001b[32m━━━━━━━━━━━━━━━━━━━━\u001b[0m\u001b[37m\u001b[0m \u001b[1m4s\u001b[0m 193ms/step - accuracy: 1.0000 - loss: 2.0323e-13 - val_accuracy: 1.0000 - val_loss: 3.5384e-14\n",
      "Epoch 4/5\n",
      "\u001b[1m23/23\u001b[0m \u001b[32m━━━━━━━━━━━━━━━━━━━━\u001b[0m\u001b[37m\u001b[0m \u001b[1m5s\u001b[0m 199ms/step - accuracy: 1.0000 - loss: 2.5928e-13 - val_accuracy: 1.0000 - val_loss: 4.0312e-14\n",
      "Epoch 5/5\n",
      "\u001b[1m23/23\u001b[0m \u001b[32m━━━━━━━━━━━━━━━━━━━━\u001b[0m\u001b[37m\u001b[0m \u001b[1m5s\u001b[0m 196ms/step - accuracy: 1.0000 - loss: 5.9095e-14 - val_accuracy: 1.0000 - val_loss: 4.0851e-14\n",
      "\u001b[1m6/6\u001b[0m \u001b[32m━━━━━━━━━━━━━━━━━━━━\u001b[0m\u001b[37m\u001b[0m \u001b[1m0s\u001b[0m 51ms/step\n",
      "Epoch 1/5\n"
     ]
    },
    {
     "name": "stderr",
     "output_type": "stream",
     "text": [
      "C:\\Users\\Hassan\\AppData\\Local\\Programs\\Python\\Python311\\Lib\\site-packages\\keras\\src\\layers\\convolutional\\base_conv.py:99: UserWarning: Do not pass an `input_shape`/`input_dim` argument to a layer. When using Sequential models, prefer using an `Input(shape)` object as the first layer in the model instead.\n",
      "  super().__init__(\n"
     ]
    },
    {
     "name": "stdout",
     "output_type": "stream",
     "text": [
      "\u001b[1m23/23\u001b[0m \u001b[32m━━━━━━━━━━━━━━━━━━━━\u001b[0m\u001b[37m\u001b[0m \u001b[1m5s\u001b[0m 200ms/step - accuracy: 0.9243 - loss: 0.5719 - val_accuracy: 1.0000 - val_loss: 0.0000e+00\n",
      "Epoch 2/5\n",
      "\u001b[1m23/23\u001b[0m \u001b[32m━━━━━━━━━━━━━━━━━━━━\u001b[0m\u001b[37m\u001b[0m \u001b[1m5s\u001b[0m 195ms/step - accuracy: 1.0000 - loss: 0.0000e+00 - val_accuracy: 1.0000 - val_loss: 0.0000e+00\n",
      "Epoch 3/5\n",
      "\u001b[1m23/23\u001b[0m \u001b[32m━━━━━━━━━━━━━━━━━━━━\u001b[0m\u001b[37m\u001b[0m \u001b[1m4s\u001b[0m 193ms/step - accuracy: 1.0000 - loss: 2.1472e-38 - val_accuracy: 1.0000 - val_loss: 0.0000e+00\n",
      "Epoch 4/5\n",
      "\u001b[1m23/23\u001b[0m \u001b[32m━━━━━━━━━━━━━━━━━━━━\u001b[0m\u001b[37m\u001b[0m \u001b[1m5s\u001b[0m 199ms/step - accuracy: 1.0000 - loss: 8.1454e-38 - val_accuracy: 1.0000 - val_loss: 0.0000e+00\n",
      "Epoch 5/5\n",
      "\u001b[1m23/23\u001b[0m \u001b[32m━━━━━━━━━━━━━━━━━━━━\u001b[0m\u001b[37m\u001b[0m \u001b[1m4s\u001b[0m 193ms/step - accuracy: 1.0000 - loss: 2.0899e-38 - val_accuracy: 1.0000 - val_loss: 0.0000e+00\n",
      "\u001b[1m6/6\u001b[0m \u001b[32m━━━━━━━━━━━━━━━━━━━━\u001b[0m\u001b[37m\u001b[0m \u001b[1m0s\u001b[0m 53ms/step\n",
      "Average Accuracy across 5 folds: 1.0\n"
     ]
    }
   ],
   "source": [
    "import numpy as np\n",
    "from sklearn.model_selection import StratifiedKFold\n",
    "from sklearn.metrics import accuracy_score\n",
    "from keras.models import Sequential\n",
    "from keras.layers import Conv2D, MaxPooling2D, Flatten, Dense\n",
    "\n",
    "# Define the CNN model\n",
    "def create_cnn_model():\n",
    "    model = Sequential([\n",
    "        Conv2D(32, (3, 3), activation='relu', input_shape=(128, 128, 1)),\n",
    "        MaxPooling2D((2, 2)),\n",
    "        Conv2D(64, (3, 3), activation='relu'),\n",
    "        MaxPooling2D((2, 2)),\n",
    "        Conv2D(64, (3, 3), activation='relu'),\n",
    "        Flatten(),\n",
    "        Dense(64, activation='relu'),\n",
    "        Dense(1, activation='sigmoid')\n",
    "    ])\n",
    "    model.compile(optimizer='adam',\n",
    "                  loss='binary_crossentropy',\n",
    "                  metrics=['accuracy'])\n",
    "    return model\n",
    "\n",
    "# Perform 5-fold cross-validation\n",
    "kfold = StratifiedKFold(n_splits=5, shuffle=True, random_state=42)\n",
    "accuracies = []\n",
    "\n",
    "for train_index, test_index in kfold.split(X_train, y_train):\n",
    "    X_train_fold, X_val_fold = X_train[train_index], X_train[test_index]\n",
    "    y_train_fold, y_val_fold = y_train[train_index], y_train[test_index]\n",
    "    \n",
    "    cnn_model = create_cnn_model()\n",
    "    cnn_model.fit(X_train_fold[..., np.newaxis], y_train_fold, epochs=5, batch_size=32, validation_data=(X_val_fold[..., np.newaxis], y_val_fold))\n",
    "    \n",
    "    cnn_predictions = cnn_model.predict(X_val_fold[..., np.newaxis])\n",
    "    cnn_predictions = np.round(cnn_predictions).flatten()\n",
    "    accuracy = accuracy_score(y_val_fold, cnn_predictions)\n",
    "    accuracies.append(accuracy)\n",
    "\n",
    "# Calculate average accuracy\n",
    "average_accuracy = np.mean(accuracies)\n",
    "print(\"Average Accuracy across 5 folds:\", average_accuracy)"
   ]
  },
  {
   "cell_type": "markdown",
   "metadata": {},
   "source": [
    "## Report\n",
    "As both the models are still performing perfectly we will use SVM as our preferred model as it requires less computational power and also because the model is explainable instead of CNN which is a black box algorithm and we cannot explain how it predicts or makes a decision."
   ]
  },
  {
   "cell_type": "markdown",
   "metadata": {
    "jp-MarkdownHeadingCollapsed": true
   },
   "source": [
    "# Experiment 2 - Classification of Heart Images\n",
    "We classify the heart images as open or closed using SVM"
   ]
  },
  {
   "cell_type": "code",
   "execution_count": 30,
   "metadata": {},
   "outputs": [],
   "source": [
    "import os\n",
    "import cv2\n",
    "import numpy as np\n",
    "from sklearn.model_selection import train_test_split\n",
    "from sklearn.preprocessing import LabelEncoder\n",
    "from sklearn.svm import SVC\n",
    "from sklearn.metrics import classification_report\n",
    "from tensorflow.keras.preprocessing.image import ImageDataGenerator\n",
    "\n",
    "# Define paths to heart and non-heart folders\n",
    "heart_path = \"heart\"  # Update with the path to your heart images folder\n",
    "\n",
    "# Load heart ultrasound images\n",
    "open_images = []\n",
    "open_labels = []\n",
    "closed_images = []\n",
    "closed_labels = []\n",
    "\n",
    "# Load images from \"open\" folder\n",
    "for img_file in os.listdir(os.path.join(heart_path, \"open\")):\n",
    "    img = cv2.imread(os.path.join(heart_path, \"open\", img_file))\n",
    "    img = cv2.cvtColor(img, cv2.COLOR_BGR2GRAY)  # Convert to grayscale\n",
    "    img = cv2.resize(img, (128, 128))  # Resize to 128x128\n",
    "    open_images.append(img)\n",
    "    open_labels.append(1)  # Label 1 for \"open\" images\n",
    "\n",
    "# Load images from \"closed\" folder\n",
    "for img_file in os.listdir(os.path.join(heart_path, \"closed\")):\n",
    "    img = cv2.imread(os.path.join(heart_path, \"closed\", img_file))\n",
    "    img = cv2.cvtColor(img, cv2.COLOR_BGR2GRAY)  # Convert to grayscale\n",
    "    img = cv2.resize(img, (128, 128))  # Resize to 128x128\n",
    "    closed_images.append(img)\n",
    "    closed_labels.append(0)  # Label 1 for \"closed\" images\n",
    "\n",
    "# Combine heart and non-heart images and labels\n",
    "X = np.concatenate((open_images, closed_images), axis=0)\n",
    "y = np.concatenate((open_labels, closed_labels), axis=0)\n",
    "\n",
    "# Split data into train and test sets\n",
    "X_train, X_test, y_train, y_test = train_test_split(X, y, test_size=0.2, stratify=y, random_state=42)\n",
    "\n",
    "# Flatten images for SVM\n",
    "X_train_flatten = X_train.reshape(X_train.shape[0], -1)\n",
    "X_test_flatten = X_test.reshape(X_test.shape[0], -1)"
   ]
  },
  {
   "cell_type": "code",
   "execution_count": 58,
   "metadata": {},
   "outputs": [
    {
     "name": "stdout",
     "output_type": "stream",
     "text": [
      "SVM Classification Report:\n",
      "              precision    recall  f1-score   support\n",
      "\n",
      "           0       1.00      0.75      0.86        16\n",
      "           1       0.88      1.00      0.93        28\n",
      "\n",
      "    accuracy                           0.91        44\n",
      "   macro avg       0.94      0.88      0.90        44\n",
      "weighted avg       0.92      0.91      0.91        44\n",
      "\n",
      "Runtime: 0.10998821258544922 seconds\n",
      "ROC AUC Score: 0.875\n"
     ]
    },
    {
     "data": {
      "text/plain": [
       "<Figure size 800x600 with 0 Axes>"
      ]
     },
     "metadata": {},
     "output_type": "display_data"
    },
    {
     "data": {
      "image/png": "[encoded data removed]",
      "text/plain": [
       "<Figure size 640x480 with 2 Axes>"
      ]
     },
     "metadata": {},
     "output_type": "display_data"
    }
   ],
   "source": [
    "from sklearn.metrics import precision_score, recall_score, f1_score, roc_auc_score, confusion_matrix\n",
    "import time\n",
    "import matplotlib.pyplot as plt\n",
    "from sklearn.metrics import ConfusionMatrixDisplay, confusion_matrix\n",
    "\n",
    "# Train SVM\n",
    "svm = SVC(kernel='linear', random_state=42)\n",
    "svm.fit(X_train_flatten, y_train)\n",
    "\n",
    "# Measure runtime\n",
    "start_time = time.time()\n",
    "svm_predictions = svm.predict(X_test_flatten)\n",
    "runtime = time.time() - start_time\n",
    "\n",
    "# Calculate ROC AUC score\n",
    "roc_auc = roc_auc_score(y_test, svm_predictions)\n",
    "\n",
    "# Print classification report\n",
    "print(\"SVM Classification Report:\")\n",
    "print(svm_report)\n",
    "\n",
    "\n",
    "print(\"Runtime:\", runtime, \"seconds\")\n",
    "print(\"ROC AUC Score:\", roc_auc)\n",
    "\n",
    "# Calculate confusion matrix\n",
    "cm = confusion_matrix(y_test, svm_predictions)\n",
    "\n",
    "# Plot confusion matrix\n",
    "plt.figure(figsize=(8, 6))\n",
    "disp = ConfusionMatrixDisplay(confusion_matrix=cm, display_labels=[\"Closed Heart\", \"Open Heart\"])\n",
    "disp.plot(cmap=plt.cm.Blues)\n",
    "plt.title(\"Confusion Matrix\")\n",
    "plt.show()"
   ]
  },
  {
   "cell_type": "markdown",
   "metadata": {},
   "source": [
    "The provided SVM classification report contains several performance metrics for a binary classification task where 0 represents images of closed hearts and 1 represents images of open hearts.\n",
    "\n",
    "**Precision:** Precision measures the proportion of true positive predictions (correctly identified open hearts) out of all positive predictions (both true positives and false positives). For class 0 (closed hearts), the precision is 1.00, indicating that all predictions made for closed hearts were correct. For class 1 (open hearts), the precision is 0.88, indicating that 88% of the predictions made for open hearts were correct.\n",
    "\n",
    "**Recall (Sensitivity):** Recall measures the proportion of true positive predictions out of all actual positives (true positives and false negatives). For class 0, the recall is 0.75, indicating that 75% of the actual closed hearts were correctly identified. For class 1, the recall is 1.00, indicating that all actual open hearts were correctly identified.\n",
    "\n",
    "**F1-Score:** The F1-score is the harmonic mean of precision and recall, providing a single metric that balances both precision and recall. It ranges from 0 to 1, where a higher score indicates better performance. The F1-score for class 0 is 0.86, and for class 1, it is 0.93.\n",
    "\n",
    "**Runtime:** The runtime of the classifier indicates the time taken to make predictions on the test dataset. In this case, the SVM classifier took approximately 0.11 seconds to complete the prediction task.\n",
    "\n",
    "**ROC AUC Score:** The Receiver Operating Characteristic Area Under the Curve (ROC AUC) score is a measure of the classifier's ability to distinguish between the positive and negative classes. It ranges from 0 to 1, where a score closer to 1 indicates better performance. Here, the SVM classifier achieved an ROC AUC score of 0.875, which suggests that it performs reasonably well in discriminating between closed and open heart images.\n",
    "\n",
    "**Confusion Matrix:** The confusion matrix provides a tabular representation of the classifier's predictions versus the actual classes. It consists of four entries: true positives (TP), false positives (FP), true negatives (TN), and false negatives (FN).\n",
    "- The value 12 in the top-left corner represents the number of instances correctly classified as closed hearts (true negatives).\n",
    "- The value 4 in the top-right corner represents the number of instances incorrectly classified as open hearts (false positives).\n",
    "- The value 0 in the bottom-left corner indicates that there are no instances incorrectly classified as closed hearts (false negatives).\n",
    "- The value 28 in the bottom-right corner represents the number of instances correctly classified as open hearts (true positives).\n",
    "\n",
    "Overall, the SVM classifier shows strong performance, particularly in correctly identifying open hearts (class 1), with slightly lower performance in identifying closed hearts (class 0). However, the overall accuracy of 91% suggests that the classifier is effective in distinguishing between closed and open heart images."
   ]
  },
  {
   "cell_type": "markdown",
   "metadata": {
    "jp-MarkdownHeadingCollapsed": true
   },
   "source": [
    "# Experiment 3 - Improving Results Using Transfer Learning"
   ]
  },
  {
   "cell_type": "code",
   "execution_count": 62,
   "metadata": {},
   "outputs": [
    {
     "name": "stdout",
     "output_type": "stream",
     "text": [
      "Epoch 1/5\n",
      "\u001b[1m6/6\u001b[0m \u001b[32m━━━━━━━━━━━━━━━━━━━━\u001b[0m\u001b[37m\u001b[0m \u001b[1m9s\u001b[0m 1s/step - accuracy: 0.5869 - loss: 24.6684\n",
      "Epoch 2/5\n",
      "\u001b[1m6/6\u001b[0m \u001b[32m━━━━━━━━━━━━━━━━━━━━\u001b[0m\u001b[37m\u001b[0m \u001b[1m9s\u001b[0m 1s/step - accuracy: 0.7142 - loss: 3.4585\n",
      "Epoch 3/5\n",
      "\u001b[1m6/6\u001b[0m \u001b[32m━━━━━━━━━━━━━━━━━━━━\u001b[0m\u001b[37m\u001b[0m \u001b[1m9s\u001b[0m 1s/step - accuracy: 0.9145 - loss: 0.5599\n",
      "Epoch 4/5\n",
      "\u001b[1m6/6\u001b[0m \u001b[32m━━━━━━━━━━━━━━━━━━━━\u001b[0m\u001b[37m\u001b[0m \u001b[1m9s\u001b[0m 1s/step - accuracy: 0.9108 - loss: 0.8861\n",
      "Epoch 5/5\n",
      "\u001b[1m6/6\u001b[0m \u001b[32m━━━━━━━━━━━━━━━━━━━━\u001b[0m\u001b[37m\u001b[0m \u001b[1m9s\u001b[0m 1s/step - accuracy: 0.9411 - loss: 0.7684\n",
      "\u001b[1m2/2\u001b[0m \u001b[32m━━━━━━━━━━━━━━━━━━━━\u001b[0m\u001b[37m\u001b[0m \u001b[1m2s\u001b[0m 549ms/step\n",
      "CNN Classification Report:\n",
      "              precision    recall  f1-score   support\n",
      "\n",
      "           0       1.00      1.00      1.00        16\n",
      "           1       1.00      1.00      1.00        28\n",
      "\n",
      "    accuracy                           1.00        44\n",
      "   macro avg       1.00      1.00      1.00        44\n",
      "weighted avg       1.00      1.00      1.00        44\n",
      "\n",
      "Runtime: 44.77302122116089 seconds\n",
      "ROC AUC Score: 1.0\n"
     ]
    },
    {
     "data": {
      "text/plain": [
       "<Figure size 800x600 with 0 Axes>"
      ]
     },
     "metadata": {},
     "output_type": "display_data"
    },
    {
     "data": {
      "image/png": "[encoded data removed]",
      "text/plain": [
       "<Figure size 640x480 with 2 Axes>"
      ]
     },
     "metadata": {},
     "output_type": "display_data"
    }
   ],
   "source": [
    "import numpy as np\n",
    "from keras.applications import VGG16\n",
    "from tensorflow.keras.preprocessing.image import ImageDataGenerator\n",
    "from keras.models import Sequential\n",
    "from keras.layers import Flatten, Dense\n",
    "from keras.optimizers import Adam\n",
    "from sklearn.metrics import classification_report\n",
    "\n",
    "# Convert grayscale images to RGB format\n",
    "X_train_rgb = np.repeat(X_train[..., np.newaxis], 3, -1)\n",
    "X_test_rgb = np.repeat(X_test[..., np.newaxis], 3, -1)\n",
    "\n",
    "# Load pre-trained VGG16 model without including top fully connected layers\n",
    "base_model = VGG16(weights='imagenet', include_top=False, input_shape=(128, 128, 3))  # Note the input_shape is (128, 128, 3) now\n",
    "\n",
    "# Freeze the layers in the pre-trained model\n",
    "for layer in base_model.layers:\n",
    "    layer.trainable = False\n",
    "\n",
    "# Define the CNN model with VGG16 as base\n",
    "model = Sequential([\n",
    "    base_model,\n",
    "    Flatten(),\n",
    "    Dense(256, activation='relu'),\n",
    "    Dense(1, activation='sigmoid')\n",
    "])\n",
    "\n",
    "# Compile the model\n",
    "model.compile(optimizer=Adam(), loss='binary_crossentropy', metrics=['accuracy'])\n",
    "\n",
    "# Measure runtime\n",
    "start_time = time.time()\n",
    "model.fit(X_train_rgb, y_train, epochs=5)\n",
    "runtime = time.time() - start_time\n",
    "\n",
    "# Evaluate the model\n",
    "predictions = model.predict(X_test_rgb)\n",
    "predictions = (predictions > 0.5).astype(int)\n",
    "report = classification_report(y_test, predictions)\n",
    "\n",
    "# Print classification report\n",
    "print(\"CNN Classification Report:\")\n",
    "print(report)\n",
    "\n",
    "# Calculate ROC AUC score\n",
    "roc_auc = roc_auc_score(y_test, predictions)\n",
    "\n",
    "# Generate confusion matrix\n",
    "conf_matrix = confusion_matrix(y_test, predictions)\n",
    "\n",
    "# Print runtime, ROC AUC score, and confusion matrix\n",
    "print(\"Runtime:\", runtime, \"seconds\")\n",
    "print(\"ROC AUC Score:\", roc_auc)\n",
    "\n",
    "# Plot confusion matrix\n",
    "plt.figure(figsize=(8, 6))\n",
    "disp = ConfusionMatrixDisplay(confusion_matrix=conf_matrix, display_labels=[\"Closed Heart\", \"Open Heart\"])\n",
    "disp.plot(cmap=plt.cm.Blues)\n",
    "plt.title(\"Confusion Matrix\")\n",
    "plt.show()"
   ]
  },
  {
   "cell_type": "markdown",
   "metadata": {},
   "source": [
    "The provided CNN classification report shows the performance metrics of a Convolutional Neural Network (CNN) model trained on the given dataset. Comparing it to the previous SVM classification report, we can observe the following:\n",
    "\n",
    "**Precision, Recall, and F1-score:** For both classes (closed heart and open heart), the CNN model achieves perfect precision, recall, and F1-score of 1.00. This indicates that the model makes no false positive or false negative predictions, achieving 100% accuracy in classifying both classes.\n",
    "\n",
    "**Accuracy:** The overall accuracy of the CNN model is also perfect at 1.00, indicating that all predictions made by the model on the test dataset are correct.\n",
    "\n",
    "**Runtime:** The runtime of the CNN model is significantly higher compared to the SVM classifier. It took approximately 44.77 seconds to train the CNN model, which is considerably longer than the SVM classifier's runtime.\n",
    "\n",
    "**ROC AUC Score:** The ROC AUC score of the CNN model is 1.00, indicating perfect performance in distinguishing between the positive and negative classes. This suggests that the CNN model achieved optimal discrimination between closed and open heart images.\n",
    "\n",
    "**Confusion Matrix:** The confusion matrix further confirms the perfect performance of the CNN model, with no misclassifications observed. Both classes (closed heart and open heart) are correctly identified, resulting in a confusion matrix with no false positives or false negatives.\n",
    "\n",
    "In summary, the CNN model demonstrates superior performance compared to the SVM classifier, achieving perfect accuracy, precision, recall, and F1-score on the test dataset. However, it comes at the cost of longer training time, as indicated by the higher runtime. The ROC AUC score of 1.00 confirms the CNN model's excellent ability to discriminate between the two classes, making it a highly effective classifier for this task."
   ]
  },
  {
   "cell_type": "markdown",
   "metadata": {},
   "source": [
    "# References"
   ]
  },
  {
   "cell_type": "markdown",
   "metadata": {},
   "source": [
    "- Chollet, F. (2017). \"Deep Learning with Python.\" Manning Publications.\n",
    "- Géron, A. (2019). \"Hands-On Machine Learning with Scikit-Learn, Keras, and TensorFlow, 2nd Edition.\" O'Reilly Media.\n",
    "- Goodfellow, I., Bengio, Y., & Courville, A. (2016). \"Deep Learning.\" MIT Press.\n",
    "- Yosinski, J., Clune, J., Bengio, Y., & Lipson, H. (2014). \"How transferable are features in deep neural networks?.\" In Advances in neural information processing systems (pp. 3320-3328)"
   ]
  }
 ],
 "metadata": {
  "colab": {
   "provenance": []
  },
  "kernelspec": {
   "display_name": "Python 3 (ipykernel)",
   "language": "python",
   "name": "python3"
  },
  "language_info": {
   "codemirror_mode": {
    "name": "ipython",
    "version": 3
   },
   "file_extension": ".py",
   "mimetype": "text/x-python",
   "name": "python",
   "nbconvert_exporter": "python",
   "pygments_lexer": "ipython3",
   "version": "3.11.0"
  }
 },
 "nbformat": 4,
 "nbformat_minor": 4
}
